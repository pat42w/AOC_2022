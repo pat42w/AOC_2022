{
 "cells": [
  {
   "cell_type": "markdown",
   "id": "0234aa66",
   "metadata": {},
   "source": [
    "# Advent of Code : Day 1   \n",
    "https://adventofcode.com/2022/day/1"
   ]
  },
  {
   "cell_type": "markdown",
   "id": "025ff573",
   "metadata": {},
   "source": [
    "### Part 1"
   ]
  },
  {
   "cell_type": "code",
   "execution_count": null,
   "id": "89b04d6b",
   "metadata": {},
   "outputs": [],
   "source": [
    "import pandas as pd\n",
    "\n",
    "#pull in data from txt (keeping blank rows)\n",
    "df_raw=pd.read_csv('Day1_Part1_input.txt', header=None, skip_blank_lines=False)\n",
    "\n",
    "#Add a cumulative sum & forward fill (so nulls in column 0 will have the n-1 rows sum)\n",
    "df_raw['rolling_sum']=df_raw[0].cumsum()\n",
    "df_raw['rolling_sum'].fillna(method='ffill',inplace=True)\n",
    "\n",
    "# add a row to the end capturing the final elfs calories\n",
    "s = pd.Series([None,df_raw['rolling_sum'].max()],index=[0,'rolling_sum'])\n",
    "df_raw = df_raw.append(s,ignore_index=True)\n",
    "\n",
    "# Take all rows with nas as they are the cumulative sums up to that point\n",
    "df_na=df_raw[df_raw[0].isna()]\n",
    "df_na.reset_index(drop=True,inplace=True)\n",
    "\n",
    "#subtract the previous cumulative sum value to get the calories carried by each elf\n",
    "df_na['Elf_sums']=df_na['rolling_sum'].diff()\n",
    "df_na['Elf_sums'].fillna(df_na['rolling_sum'],inplace=True)\n",
    "\n",
    "#Now we take the max of our Elf_sums column to get our answer\n",
    "df_na['Elf_sums'].max()"
   ]
  },
  {
   "cell_type": "markdown",
   "id": "2d099d95",
   "metadata": {},
   "source": [
    "### Part 2"
   ]
  },
  {
   "cell_type": "code",
   "execution_count": null,
   "id": "55e55e78",
   "metadata": {},
   "outputs": [],
   "source": [
    "# Get sum of the top 3 values\n",
    "df_na['Elf_sums'].sort_values()[-3:].sum()"
   ]
  },
  {
   "cell_type": "code",
   "execution_count": null,
   "id": "3dd153b1",
   "metadata": {},
   "outputs": [],
   "source": []
  }
 ],
 "metadata": {
  "kernelspec": {
   "display_name": "Python 3.9.13 ('base')",
   "language": "python",
   "name": "python3"
  },
  "language_info": {
   "codemirror_mode": {
    "name": "ipython",
    "version": 3
   },
   "file_extension": ".py",
   "mimetype": "text/x-python",
   "name": "python",
   "nbconvert_exporter": "python",
   "pygments_lexer": "ipython3",
   "version": "3.9.13"
  },
  "vscode": {
   "interpreter": {
    "hash": "0eb5d0a65b500759bcde1c4c1ad0551eaece71d5bef76353acf57400c52edb49"
   }
  }
 },
 "nbformat": 4,
 "nbformat_minor": 5
}
