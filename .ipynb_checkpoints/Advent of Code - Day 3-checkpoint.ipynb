{
 "cells": [
  {
   "cell_type": "markdown",
   "id": "0234aa66",
   "metadata": {},
   "source": [
    "# Advent of Code : Day 2 \n",
    "https://adventofcode.com/2022/day/3"
   ]
  },
  {
   "cell_type": "markdown",
   "id": "77f52271",
   "metadata": {},
   "source": [
    "### Part 1"
   ]
  },
  {
   "cell_type": "code",
   "execution_count": 34,
   "id": "89b04d6b",
   "metadata": {},
   "outputs": [
    {
     "data": {
      "text/plain": [
       "7553"
      ]
     },
     "execution_count": 34,
     "metadata": {},
     "output_type": "execute_result"
    }
   ],
   "source": [
    "import pandas as pd\n",
    "\n",
    "#pull in data from txt (keeping blank rows)\n",
    "df_raw=pd.read_csv('Day3_Part1_input.txt',sep=\" \", header=None, skip_blank_lines=False)\n",
    "\n",
    "# slice ourstrings\n",
    "def slice_1(x):\n",
    "    return x[0][:len(x[0])//2]\n",
    "\n",
    "def slice_2(x):\n",
    "    return x[0][len(x[0])//2:]\n",
    "\n",
    "df_raw['H1']=df_raw.apply(lambda x: slice_1(x), axis=1)\n",
    "df_raw['H2']=df_raw.apply(lambda x: slice_2(x), axis=1)\n",
    "\n",
    "# function to find letter in both string -> set and get intersection\n",
    "def letter_in_both(x):\n",
    "    str1, str2 =x['H1'], x['H2']\n",
    "    str1_chars, str2_chars = set(str1) ,set(str2)\n",
    "    result = sorted(str1_chars.intersection(str2_chars))\n",
    "    return result[0]\n",
    "\n",
    "df_raw['Common_value']=df_raw.apply(lambda x: letter_in_both(x), axis=1)\n",
    "\n",
    "def assign_num(x):\n",
    "    if x == x.lower():\n",
    "        num= ord(x) - 96 #use ord to assign values to lower case\n",
    "    else :\n",
    "        num= (ord(x.lower()) - 96) +26 #use ord to assign values to lower case and add 26 for upper case\n",
    "    \n",
    "    return num\n",
    "\n",
    "df_raw['Common_value_numeric']=df_raw['Common_value'].apply(lambda x: assign_num(x))\n",
    "\n",
    "df_raw['Common_value_numeric'].sum()"
   ]
  },
  {
   "cell_type": "markdown",
   "id": "688531e0",
   "metadata": {},
   "source": [
    "### Part 2"
   ]
  },
  {
   "cell_type": "code",
   "execution_count": 49,
   "id": "a09a2e78",
   "metadata": {},
   "outputs": [
    {
     "name": "stderr",
     "output_type": "stream",
     "text": [
      "C:\\Users\\patri\\AppData\\Local\\Temp\\ipykernel_18112\\2077472615.py:19: SettingWithCopyWarning: \n",
      "A value is trying to be set on a copy of a slice from a DataFrame.\n",
      "Try using .loc[row_indexer,col_indexer] = value instead\n",
      "\n",
      "See the caveats in the documentation: https://pandas.pydata.org/pandas-docs/stable/user_guide/indexing.html#returning-a-view-versus-a-copy\n",
      "  df_raw_3['Common_value']=df_raw_3.apply(lambda x: letter_in_three(x), axis=1)\n",
      "C:\\Users\\patri\\AppData\\Local\\Temp\\ipykernel_18112\\2077472615.py:21: SettingWithCopyWarning: \n",
      "A value is trying to be set on a copy of a slice from a DataFrame.\n",
      "Try using .loc[row_indexer,col_indexer] = value instead\n",
      "\n",
      "See the caveats in the documentation: https://pandas.pydata.org/pandas-docs/stable/user_guide/indexing.html#returning-a-view-versus-a-copy\n",
      "  df_raw_3['Common_value_numeric']=df_raw_3['Common_value'].apply(lambda x: assign_num(x))\n"
     ]
    },
    {
     "data": {
      "text/plain": [
       "2758"
      ]
     },
     "execution_count": 49,
     "metadata": {},
     "output_type": "execute_result"
    }
   ],
   "source": [
    "#pull in data from txt (keeping blank rows)\n",
    "df_raw=pd.read_csv('Day3_Part1_input.txt',sep=\" \", header=None, skip_blank_lines=False)\n",
    "\n",
    "#  create 2 columns with the N+1 & N+2 values\n",
    "df_raw[1]=df_raw[0].shift(-1)\n",
    "df_raw[2]=df_raw[0].shift(-2)\n",
    "\n",
    "#keep every 3rd row\n",
    "df_raw_3=df_raw.iloc[::3, :]\n",
    "\n",
    "# function to find letter in both string -> set and get intersection\n",
    "def letter_in_three(x):\n",
    "    str1, str2, str3 = x[0], x[1], x[2]\n",
    "    str1_chars, str2_chars, str3_chars = set(str1) ,set(str2), set(str3)\n",
    "    result_a = sorted(str1_chars.intersection(str2_chars))\n",
    "    result_b = sorted(set(result_a).intersection(str3_chars))\n",
    "    return result_b[0]\n",
    "\n",
    "df_raw_3['Common_value']=df_raw_3.apply(lambda x: letter_in_three(x), axis=1)\n",
    "\n",
    "#Repeat from part 1\n",
    "df_raw_3['Common_value_numeric']=df_raw_3['Common_value'].apply(lambda x: assign_num(x))\n",
    "\n",
    "df_raw_3['Common_value_numeric'].sum()"
   ]
  }
 ],
 "metadata": {
  "kernelspec": {
   "display_name": "Python 3 (ipykernel)",
   "language": "python",
   "name": "python3"
  },
  "language_info": {
   "codemirror_mode": {
    "name": "ipython",
    "version": 3
   },
   "file_extension": ".py",
   "mimetype": "text/x-python",
   "name": "python",
   "nbconvert_exporter": "python",
   "pygments_lexer": "ipython3",
   "version": "3.9.13"
  }
 },
 "nbformat": 4,
 "nbformat_minor": 5
}
