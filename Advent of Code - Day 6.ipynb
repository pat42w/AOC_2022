{
 "cells": [
  {
   "cell_type": "markdown",
   "id": "0234aa66",
   "metadata": {},
   "source": [
    "# Advent of Code : Day 6\n",
    "https://adventofcode.com/2022/day/6"
   ]
  },
  {
   "cell_type": "markdown",
   "id": "77f52271",
   "metadata": {},
   "source": [
    "### Part 1"
   ]
  },
  {
   "cell_type": "code",
   "execution_count": null,
   "id": "89b04d6b",
   "metadata": {},
   "outputs": [],
   "source": [
    "#pull in data from txt \n",
    "with open('Day6_Part1_input.txt') as f:\n",
    "    lines = f.readlines()\n",
    "lines=lines[0]"
   ]
  },
  {
   "cell_type": "code",
   "execution_count": null,
   "id": "14e9b40f",
   "metadata": {},
   "outputs": [],
   "source": [
    "# string charecter checker\n",
    "def check_unique(str):\n",
    "    for i in range(len(str)):\n",
    "        for j in range(i + 1,len(str)):\n",
    "            if(str[i] == str[j]):\n",
    "                return False\n",
    "    return True"
   ]
  },
  {
   "cell_type": "code",
   "execution_count": null,
   "id": "aa13fa4d",
   "metadata": {},
   "outputs": [],
   "source": [
    "i=4 \n",
    "while i < len(lines):\n",
    "    if check_unique(lines[i-4:i]): # 4 letter case\n",
    "        print(lines[i-4:i])\n",
    "        print(i)\n",
    "        break # break when found\n",
    "    i+=1"
   ]
  },
  {
   "cell_type": "markdown",
   "id": "6f5c58af",
   "metadata": {},
   "source": [
    "### Part 2"
   ]
  },
  {
   "cell_type": "code",
   "execution_count": null,
   "id": "86f0db70",
   "metadata": {},
   "outputs": [],
   "source": [
    "i=14\n",
    "while i < len(lines):\n",
    "    if check_unique(lines[i-14:i]): # 14 letter case\n",
    "        print(lines[i-14:i])\n",
    "        print(i)\n",
    "        break # break when found\n",
    "    i+=1"
   ]
  },
  {
   "cell_type": "code",
   "execution_count": null,
   "id": "847cef41",
   "metadata": {},
   "outputs": [],
   "source": []
  }
 ],
 "metadata": {
  "kernelspec": {
   "display_name": "Python 3 (ipykernel)",
   "language": "python",
   "name": "python3"
  },
  "language_info": {
   "codemirror_mode": {
    "name": "ipython",
    "version": 3
   },
   "file_extension": ".py",
   "mimetype": "text/x-python",
   "name": "python",
   "nbconvert_exporter": "python",
   "pygments_lexer": "ipython3",
   "version": "3.9.13"
  }
 },
 "nbformat": 4,
 "nbformat_minor": 5
}
