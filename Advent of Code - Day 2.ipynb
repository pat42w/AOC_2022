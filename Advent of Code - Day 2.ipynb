{
 "cells": [
  {
   "cell_type": "markdown",
   "id": "0234aa66",
   "metadata": {},
   "source": [
    "# Advent of Code : Day 2 \n",
    "https://adventofcode.com/2022/day/2"
   ]
  },
  {
   "cell_type": "markdown",
   "id": "77f52271",
   "metadata": {},
   "source": [
    "### Part 1"
   ]
  },
  {
   "cell_type": "code",
   "execution_count": null,
   "id": "89b04d6b",
   "metadata": {},
   "outputs": [],
   "source": [
    "import pandas as pd\n",
    "\n",
    "#pull in data from txt (keeping blank rows)\n",
    "df_raw=pd.read_csv('Day2_Part1_input.txt',sep=\" \", header=None, skip_blank_lines=False)\n",
    "\n",
    "# replace with numerics\n",
    "df_raw.replace({'X': 'A', 'Y': 'B', 'Z':'C'},inplace=True)\n",
    "df_raw.replace({'A': 1, 'B': 2, 'C':3},inplace=True)\n",
    "\n",
    "# Flag Draws\n",
    "df_raw['Result_Draw']=(df_raw[0]==df_raw[1])*1\n",
    "\n",
    "# Define winners function& apply\n",
    "def winner_check(x):\n",
    "    win=0\n",
    "    if (x[0]==1)and (x[1]==2):\n",
    "        win=1\n",
    "    if (x[0]==2)and (x[1]==3):\n",
    "        win=1\n",
    "    if (x[0]==3)and (x[1]==1):\n",
    "        win=1\n",
    "    return win\n",
    "\n",
    "df_raw['Result_Win']=df_raw.apply(lambda x : winner_check(x),axis=1)\n",
    "\n",
    "# Addition becomes trivial\n",
    "df_raw['Score']=df_raw[1]+(df_raw['Result_Draw']*3)+(df_raw['Result_Win']*6)\n",
    "df_raw['Score'].sum()"
   ]
  },
  {
   "cell_type": "markdown",
   "id": "688531e0",
   "metadata": {},
   "source": [
    "### Part 2"
   ]
  },
  {
   "cell_type": "code",
   "execution_count": null,
   "id": "a09a2e78",
   "metadata": {},
   "outputs": [],
   "source": [
    "#pull in data from txt (keeping blank rows)\n",
    "df_raw=pd.read_csv('Day2_Part1_input.txt',sep=\" \", header=None, skip_blank_lines=False)\n",
    "\n",
    "# Again return to numerics\n",
    "df_raw.replace({'A': 1, 'B': 2, 'C':3},inplace=True)\n",
    "\n",
    "# define assignment function\n",
    "def assign_play(x):\n",
    "    if x[1]=='Y': # Draw keep same value\n",
    "        play=x[0]\n",
    "    if x[1]=='X': # Lose subtract 1 from opponents numeric value\n",
    "        play=x[0] - 1\n",
    "    if x[1]=='Z': # Win add 1 to opponents numeric value\n",
    "        play=x[0] + 1\n",
    "    return play\n",
    "\n",
    "df_raw['Play']=df_raw.apply(lambda x : assign_play(x),axis=1)\n",
    "\n",
    "# replace numbers outside of our base 3 ring\n",
    "df_raw['Play'].replace({4 : 1, 0: 3},inplace=True)\n",
    "\n",
    "#create column holding value from result\n",
    "df_raw['Result_score']=df_raw[1].replace({'X': 0, 'Y': 3, 'Z':6})\n",
    "\n",
    "# Add to played value & sum\n",
    "df_raw['Total_score']=df_raw['Play']+df_raw['Result_score']\n",
    "\n",
    "df_raw['Total_score'].sum()"
   ]
  },
  {
   "cell_type": "markdown",
   "id": "d586d246",
   "metadata": {},
   "source": [
    "### Part 2"
   ]
  }
 ],
 "metadata": {
  "kernelspec": {
   "display_name": "Python 3 (ipykernel)",
   "language": "python",
   "name": "python3"
  },
  "language_info": {
   "codemirror_mode": {
    "name": "ipython",
    "version": 3
   },
   "file_extension": ".py",
   "mimetype": "text/x-python",
   "name": "python",
   "nbconvert_exporter": "python",
   "pygments_lexer": "ipython3",
   "version": "3.9.13"
  }
 },
 "nbformat": 4,
 "nbformat_minor": 5
}
