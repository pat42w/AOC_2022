{
 "cells": [
  {
   "cell_type": "markdown",
   "id": "0234aa66",
   "metadata": {},
   "source": [
    "# Advent of Code : Day 4\n",
    "https://adventofcode.com/2022/day/4"
   ]
  },
  {
   "cell_type": "markdown",
   "id": "77f52271",
   "metadata": {},
   "source": [
    "### Part 1"
   ]
  },
  {
   "cell_type": "code",
   "execution_count": 12,
   "id": "89b04d6b",
   "metadata": {},
   "outputs": [
    {
     "name": "stderr",
     "output_type": "stream",
     "text": [
      "C:\\Users\\patri\\AppData\\Local\\Temp\\ipykernel_3296\\3912587419.py:4: ParserWarning: Falling back to the 'python' engine because the 'c' engine does not support regex separators (separators > 1 char and different from '\\s+' are interpreted as regex); you can avoid this warning by specifying engine='python'.\n",
      "  df_raw=pd.read_csv('Day4_Part1_input.txt',sep=\"\\s+|,|-\", header=None, skip_blank_lines=False)\n"
     ]
    },
    {
     "data": {
      "text/plain": [
       "459"
      ]
     },
     "execution_count": 12,
     "metadata": {},
     "output_type": "execute_result"
    }
   ],
   "source": [
    "import pandas as pd\n",
    "\n",
    "#pull in data from txt (keeping blank rows)\n",
    "df_raw=pd.read_csv('Day4_Part1_input.txt',sep=\"\\s+|,|-\", header=None, skip_blank_lines=False)\n",
    "\n",
    "def check_containment(x):\n",
    "    c_flag=0\n",
    "    if (x[0] <= x[2] <= x[1]) and (x[0] <= x[3] <= x[1]):\n",
    "        c_flag=1\n",
    "    if (x[2] <= x[0] <= x[3]) and (x[2] <= x[1] <= x[3]):\n",
    "        c_flag=1\n",
    "    return c_flag\n",
    "\n",
    "df_raw['Contained_flag']=df_raw.apply(lambda x : check_containment(x), axis=1)\n",
    "\n",
    "df_raw['Contained_flag'].sum()"
   ]
  },
  {
   "cell_type": "markdown",
   "id": "688531e0",
   "metadata": {},
   "source": [
    "### Part 2"
   ]
  },
  {
   "cell_type": "code",
   "execution_count": 20,
   "id": "a09a2e78",
   "metadata": {},
   "outputs": [
    {
     "data": {
      "text/plain": [
       "779"
      ]
     },
     "execution_count": 20,
     "metadata": {},
     "output_type": "execute_result"
    }
   ],
   "source": [
    "def check_overlap(x):\n",
    "    c_flag=0\n",
    "    if (x[0] <= x[2] <= x[1]) or (x[0] <= x[3] <= x[1]):\n",
    "        c_flag=1\n",
    "    if (x[2] <= x[0] <= x[3]) or (x[2] <= x[1] <= x[3]):\n",
    "        c_flag=1\n",
    "    return c_flag\n",
    "\n",
    "df_raw['Overlap_flag']=df_raw.apply(lambda x : check_overlap(x), axis=1)\n",
    "df_raw['Overlap_flag'].sum()\n"
   ]
  },
  {
   "cell_type": "code",
   "execution_count": null,
   "id": "3efcd739",
   "metadata": {},
   "outputs": [],
   "source": []
  }
 ],
 "metadata": {
  "kernelspec": {
   "display_name": "Python 3 (ipykernel)",
   "language": "python",
   "name": "python3"
  },
  "language_info": {
   "codemirror_mode": {
    "name": "ipython",
    "version": 3
   },
   "file_extension": ".py",
   "mimetype": "text/x-python",
   "name": "python",
   "nbconvert_exporter": "python",
   "pygments_lexer": "ipython3",
   "version": "3.9.13"
  }
 },
 "nbformat": 4,
 "nbformat_minor": 5
}
